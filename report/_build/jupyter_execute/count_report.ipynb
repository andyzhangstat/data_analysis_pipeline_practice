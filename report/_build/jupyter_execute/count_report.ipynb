{
 "cells": [
  {
   "cell_type": "markdown",
   "id": "7323d332-30da-49a7-9cd4-3d90dcf08023",
   "metadata": {
    "editable": true,
    "slideshow": {
     "slide_type": ""
    },
    "tags": []
   },
   "source": [
    "# Book word count report"
   ]
  },
  {
   "cell_type": "code",
   "execution_count": 1,
   "id": "88e6a47b-5ee4-49d1-851f-21775106394e",
   "metadata": {
    "editable": true,
    "slideshow": {
     "slide_type": ""
    },
    "tags": [
     "remove-input"
    ]
   },
   "outputs": [
    {
     "ename": "ModuleNotFoundError",
     "evalue": "No module named 'myst_nb'",
     "output_type": "error",
     "traceback": [
      "\u001b[0;31m---------------------------------------------------------------------------\u001b[0m",
      "\u001b[0;31mModuleNotFoundError\u001b[0m                       Traceback (most recent call last)",
      "\u001b[0;32m<ipython-input-1-14fe88b322df>\u001b[0m in \u001b[0;36m<module>\u001b[0;34m\u001b[0m\n\u001b[0;32m----> 1\u001b[0;31m \u001b[0;32mfrom\u001b[0m \u001b[0mmyst_nb\u001b[0m \u001b[0;32mimport\u001b[0m \u001b[0mglue\u001b[0m\u001b[0;34m\u001b[0m\u001b[0;34m\u001b[0m\u001b[0m\n\u001b[0m",
      "\u001b[0;31mModuleNotFoundError\u001b[0m: No module named 'myst_nb'"
     ]
    }
   ],
   "source": [
    "from myst_nb import glue"
   ]
  },
  {
   "cell_type": "markdown",
   "id": "31e718a6-863a-4767-a839-e051d393896c",
   "metadata": {
    "editable": true,
    "slideshow": {
     "slide_type": ""
    },
    "tags": [
     "remove-input"
    ]
   },
   "source": [
    "## The most frequent words in the 4 novels we studied:\n",
    "\n",
    "#### A Journey to the Western Islands of Scotland:\n",
    "![alt tag](../results/figure/isles.png)\n",
    "\n",
    "```{glue:figure} ../results/figure/isles.png\n",
    ":figwidth: 650px\n",
    ":name: \"isles\"\n",
    "\n",
    "The most frequent words in the book *A Journey to the Western Islands of Scotland*.\n",
    "```\n",
    "\n",
    "#### *The People of the Abyss*:\n",
    "![alt tag](../results/figure/abyss.png)\n",
    "\n",
    "```{glue:figure} ../results/figure/abyss.png\n",
    ":figwidth: 650px\n",
    ":name: \"abyss\"\n",
    "\n",
    "The most frequent words in the book *The People of the Abyss*.\n",
    "```\n",
    "\n",
    "#### Scott's Last Expedition:\n",
    "![alt tag](../results/figure/last.png)\n",
    "\n",
    "```{glue:figure} ../results/figure/last.png\n",
    ":figwidth: 650px\n",
    ":name: \"last\"\n",
    "\n",
    "The most frequent words in the book *Scott's Last Expedition*.\n",
    "```\n",
    "\n",
    "#### My First Summer in the Sierra:\n",
    "![alt tag](../results/figure/sierra.png)\n",
    "\n",
    "```{glue:figure} ../results/figure/sierra.png\n",
    ":figwidth: 650px\n",
    ":name: \"sierra\"\n",
    "\n",
    "The most frequent words in the book *My First Summer in the Sierra*.\n",
    "```"
   ]
  },
  {
   "cell_type": "code",
   "execution_count": null,
   "id": "0c32bad0-4cce-4283-9e82-e15bca214c9f",
   "metadata": {
    "editable": true,
    "slideshow": {
     "slide_type": ""
    },
    "tags": []
   },
   "outputs": [],
   "source": []
  }
 ],
 "metadata": {
  "kernelspec": {
   "display_name": "Python 3 (ipykernel)",
   "language": "python",
   "name": "python3"
  },
  "language_info": {
   "codemirror_mode": {
    "name": "ipython",
    "version": 3
   },
   "file_extension": ".py",
   "mimetype": "text/x-python",
   "name": "python",
   "nbconvert_exporter": "python",
   "pygments_lexer": "ipython3",
   "version": "3.8.7"
  }
 },
 "nbformat": 4,
 "nbformat_minor": 5
}